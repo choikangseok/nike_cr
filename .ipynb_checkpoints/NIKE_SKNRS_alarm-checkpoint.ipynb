{
 "cells": [
  {
   "cell_type": "code",
   "execution_count": 7,
   "metadata": {},
   "outputs": [],
   "source": [
    "from selenium import webdriver\n",
    "from bs4 import BeautifulSoup\n"
   ]
  },
  {
   "cell_type": "code",
   "execution_count": 2,
   "metadata": {},
   "outputs": [
    {
     "name": "stdout",
     "output_type": "stream",
     "text": [
      "Collecting selenium\n",
      "  Using cached selenium-3.141.0-py2.py3-none-any.whl (904 kB)\n",
      "Requirement already satisfied: urllib3 in c:\\users\\ktos5\\anaconda3\\lib\\site-packages (from selenium) (1.25.9)\n",
      "Installing collected packages: selenium\n",
      "Successfully installed selenium-3.141.0\n"
     ]
    }
   ],
   "source": [
    "!pip install selenium"
   ]
  },
  {
   "cell_type": "code",
   "execution_count": null,
   "metadata": {},
   "outputs": [],
   "source": [
    "class=\"btn-link line large btn-soldout ns\""
   ]
  },
  {
   "cell_type": "code",
   "execution_count": 124,
   "metadata": {},
   "outputs": [
    {
     "name": "stdout",
     "output_type": "stream",
     "text": [
      "출력 길이40\n"
     ]
    }
   ],
   "source": [
    "from selenium import webdriver\n",
    "\n",
    "options = webdriver.ChromeOptions()\n",
    "options.add_argument(\"headless\")\n",
    "\n",
    "driver = webdriver.Chrome('chromedriver', options=options)\n",
    "\n",
    "# driver.implicitly_wait(3)\n",
    "\n",
    "\n",
    "driver.get('https://www.nike.com/kr/launch/')\n",
    "driver.execute_script(\"window.scrollTo(0, document.body.scrollHeight);\")\n",
    "\n",
    "# elements = driver.find_elements_by_css_selector('body > section > section > section > div.category-max-width > div > ul > li')\n",
    "# elements = driver.find_elements_by_css_selector('body > section > section > section > div.category-max-width > div > ul > li:nth-child(1) > a > div.img-sect > img')\n",
    "\n",
    "elements = driver.find_elements_by_css_selector('body > section > section > section > div.category-max-width > div > ul> li')\n",
    "\n",
    "# elements = driver.find_elements_by_css_selector('li:nth-child(1) > a > div.img-sect > img')\n",
    "#img full xpath\n",
    "# body > section > section > section > div.category-max-width > div > ul > li:nth-child(1) > a > div.img-sect > img\n",
    "# elements2 = driver\n",
    "# sourcecode_elem = driver.find_element_by_xpath(\"/html/body/section/section/section/div[1]/div/ul/li[3]/a/div[2]/div[2]/span\")\n",
    "# html = driver.page_source\n",
    "# soup = BeautifulSoup(html, 'html.parser')\n",
    "\n",
    "\n",
    "print( '출력 길이{}'.format( len(elements) ))\n",
    "\n"
   ]
  },
  {
   "cell_type": "code",
   "execution_count": 185,
   "metadata": {},
   "outputs": [],
   "source": [
    "dict_status= {}"
   ]
  },
  {
   "cell_type": "code",
   "execution_count": 186,
   "metadata": {},
   "outputs": [
    {
     "data": {
      "text/plain": [
       "{}"
      ]
     },
     "execution_count": 186,
     "metadata": {},
     "output_type": "execute_result"
    }
   ],
   "source": [
    "dict_status"
   ]
  },
  {
   "cell_type": "code",
   "execution_count": 187,
   "metadata": {},
   "outputs": [
    {
     "data": {
      "text/plain": [
       "list"
      ]
     },
     "execution_count": 187,
     "metadata": {},
     "output_type": "execute_result"
    }
   ],
   "source": [
    "type(status_set)"
   ]
  },
  {
   "cell_type": "code",
   "execution_count": 190,
   "metadata": {},
   "outputs": [
    {
     "name": "stdout",
     "output_type": "stream",
     "text": [
      "https://static-breeze.nike.co.kr/kr/ko_kr/cmsstatic/product/-1533471988/201217_kickcheck_FEED.jpg?snkrBrowse\n",
      "LEARN MORE\n"
     ]
    },
    {
     "ename": "KeyError",
     "evalue": "'LEARN MORE'",
     "output_type": "error",
     "traceback": [
      "\u001b[1;31m---------------------------------------------------------------------------\u001b[0m",
      "\u001b[1;31mKeyError\u001b[0m                                  Traceback (most recent call last)",
      "\u001b[1;32m<ipython-input-190-37bf60065406>\u001b[0m in \u001b[0;36m<module>\u001b[1;34m\u001b[0m\n\u001b[0;32m     12\u001b[0m             \u001b[1;32mpass\u001b[0m\u001b[1;33m\u001b[0m\u001b[1;33m\u001b[0m\u001b[0m\n\u001b[0;32m     13\u001b[0m         \u001b[1;32melse\u001b[0m\u001b[1;33m:\u001b[0m\u001b[1;33m\u001b[0m\u001b[1;33m\u001b[0m\u001b[0m\n\u001b[1;32m---> 14\u001b[1;33m             \u001b[0mdict_status\u001b[0m\u001b[1;33m[\u001b[0m\u001b[0mstatus\u001b[0m\u001b[1;33m.\u001b[0m\u001b[0mget_attribute\u001b[0m\u001b[1;33m(\u001b[0m\u001b[1;34m\"innerHTML\"\u001b[0m\u001b[1;33m)\u001b[0m\u001b[1;33m]\u001b[0m\u001b[1;33m=\u001b[0m \u001b[0mdict_status\u001b[0m\u001b[1;33m[\u001b[0m\u001b[0mstatus\u001b[0m\u001b[1;33m.\u001b[0m\u001b[0mget_attribute\u001b[0m\u001b[1;33m(\u001b[0m\u001b[1;34m\"innerHTML\"\u001b[0m\u001b[1;33m)\u001b[0m\u001b[1;33m]\u001b[0m\u001b[1;33m+\u001b[0m\u001b[1;36m1\u001b[0m\u001b[1;33m\u001b[0m\u001b[1;33m\u001b[0m\u001b[0m\n\u001b[0m\u001b[0;32m     15\u001b[0m     \u001b[1;32melse\u001b[0m\u001b[1;33m:\u001b[0m\u001b[1;33m\u001b[0m\u001b[1;33m\u001b[0m\u001b[0m\n\u001b[0;32m     16\u001b[0m         \u001b[0mprint\u001b[0m\u001b[1;33m(\u001b[0m\u001b[0mimage\u001b[0m\u001b[1;33m.\u001b[0m\u001b[0mget_attribute\u001b[0m\u001b[1;33m(\u001b[0m\u001b[1;34m\"data-src\"\u001b[0m\u001b[1;33m)\u001b[0m\u001b[1;33m)\u001b[0m\u001b[1;33m\u001b[0m\u001b[1;33m\u001b[0m\u001b[0m\n",
      "\u001b[1;31mKeyError\u001b[0m: 'LEARN MORE'"
     ]
    }
   ],
   "source": [
    "dict_status= {}\n",
    "for i in elements:\n",
    "    image = i.find_element_by_tag_name(\"img\")\n",
    "    status = i.find_element_by_tag_name(\"span\")\n",
    "    \n",
    "    if image.get_attribute(\"src\").startswith('http') :\n",
    "        print(image.get_attribute(\"src\"))\n",
    "        print(status.get_attribute(\"innerHTML\"))\n",
    "        \n",
    "#         if status.get_attribute(\"innerHTML\").endswith(\"원\") == -1:\n",
    "#             print(\"원\")\n",
    "#             pass\n",
    "#         else:\n",
    "        dict_status[status.get_attribute(\"innerHTML\")]= dict_status[status.get_attribute(\"innerHTML\")]+1\n",
    "    else:\n",
    "        print(image.get_attribute(\"data-src\"))\n",
    "        print(status.get_attribute(\"innerHTML\"))\n",
    "        \n",
    "#         if status.get_attribute(\"innerHTML\").endswith(\"원\") == -1:\n",
    "#             print(\"원\")\n",
    "#             pass\n",
    "#         else:\n",
    "        dict_status[status.get_attribute(\"innerHTML\")]= dict_status[status.get_attribute(\"innerHTML\")]+1\n",
    "\n",
    "    \n",
    "        \n",
    "    "
   ]
  },
  {
   "cell_type": "code",
   "execution_count": 127,
   "metadata": {},
   "outputs": [
    {
     "name": "stdout",
     "output_type": "stream",
     "text": [
      "https://static-breeze.nike.co.kr/kr/ko_kr/cmsstatic/product/-1533471988/201217_kickcheck_FEED.jpg?snkrBrowse\n",
      "https://static-breeze.nike.co.kr/kr/ko_kr/cmsstatic/product/1025433560/DA4104-010_DA4104-010_PC.jpg?snkrBrowse\n",
      "https://static-breeze.nike.co.kr/kr/ko_kr/cmsstatic/product/777836104/DA4104-739_DA4104-739_PC.jpg?snkrBrowse\n",
      "https://static-breeze.nike.co.kr/kr/ko_kr/cmsstatic/product/-2058433695/DA4105-010_DA4105-010_PC.jpg?snkrBrowse\n",
      "data:image/gif;base64,R0lGODlhAQABAIAAAP///wAAACH5BAEAAAAALAAAAAABAAEAAAICRAEAOw==\n",
      "data:image/gif;base64,R0lGODlhAQABAIAAAP///wAAACH5BAEAAAAALAAAAAABAAEAAAICRAEAOw==\n",
      "data:image/gif;base64,R0lGODlhAQABAIAAAP///wAAACH5BAEAAAAALAAAAAABAAEAAAICRAEAOw==\n",
      "data:image/gif;base64,R0lGODlhAQABAIAAAP///wAAACH5BAEAAAAALAAAAAABAAEAAAICRAEAOw==\n",
      "data:image/gif;base64,R0lGODlhAQABAIAAAP///wAAACH5BAEAAAAALAAAAAABAAEAAAICRAEAOw==\n",
      "data:image/gif;base64,R0lGODlhAQABAIAAAP///wAAACH5BAEAAAAALAAAAAABAAEAAAICRAEAOw==\n",
      "data:image/gif;base64,R0lGODlhAQABAIAAAP///wAAACH5BAEAAAAALAAAAAABAAEAAAICRAEAOw==\n",
      "data:image/gif;base64,R0lGODlhAQABAIAAAP///wAAACH5BAEAAAAALAAAAAABAAEAAAICRAEAOw==\n",
      "data:image/gif;base64,R0lGODlhAQABAIAAAP///wAAACH5BAEAAAAALAAAAAABAAEAAAICRAEAOw==\n",
      "data:image/gif;base64,R0lGODlhAQABAIAAAP///wAAACH5BAEAAAAALAAAAAABAAEAAAICRAEAOw==\n",
      "data:image/gif;base64,R0lGODlhAQABAIAAAP///wAAACH5BAEAAAAALAAAAAABAAEAAAICRAEAOw==\n",
      "data:image/gif;base64,R0lGODlhAQABAIAAAP///wAAACH5BAEAAAAALAAAAAABAAEAAAICRAEAOw==\n",
      "data:image/gif;base64,R0lGODlhAQABAIAAAP///wAAACH5BAEAAAAALAAAAAABAAEAAAICRAEAOw==\n",
      "data:image/gif;base64,R0lGODlhAQABAIAAAP///wAAACH5BAEAAAAALAAAAAABAAEAAAICRAEAOw==\n",
      "data:image/gif;base64,R0lGODlhAQABAIAAAP///wAAACH5BAEAAAAALAAAAAABAAEAAAICRAEAOw==\n",
      "data:image/gif;base64,R0lGODlhAQABAIAAAP///wAAACH5BAEAAAAALAAAAAABAAEAAAICRAEAOw==\n",
      "data:image/gif;base64,R0lGODlhAQABAIAAAP///wAAACH5BAEAAAAALAAAAAABAAEAAAICRAEAOw==\n",
      "data:image/gif;base64,R0lGODlhAQABAIAAAP///wAAACH5BAEAAAAALAAAAAABAAEAAAICRAEAOw==\n",
      "data:image/gif;base64,R0lGODlhAQABAIAAAP///wAAACH5BAEAAAAALAAAAAABAAEAAAICRAEAOw==\n",
      "data:image/gif;base64,R0lGODlhAQABAIAAAP///wAAACH5BAEAAAAALAAAAAABAAEAAAICRAEAOw==\n",
      "data:image/gif;base64,R0lGODlhAQABAIAAAP///wAAACH5BAEAAAAALAAAAAABAAEAAAICRAEAOw==\n",
      "data:image/gif;base64,R0lGODlhAQABAIAAAP///wAAACH5BAEAAAAALAAAAAABAAEAAAICRAEAOw==\n",
      "data:image/gif;base64,R0lGODlhAQABAIAAAP///wAAACH5BAEAAAAALAAAAAABAAEAAAICRAEAOw==\n",
      "data:image/gif;base64,R0lGODlhAQABAIAAAP///wAAACH5BAEAAAAALAAAAAABAAEAAAICRAEAOw==\n",
      "data:image/gif;base64,R0lGODlhAQABAIAAAP///wAAACH5BAEAAAAALAAAAAABAAEAAAICRAEAOw==\n",
      "data:image/gif;base64,R0lGODlhAQABAIAAAP///wAAACH5BAEAAAAALAAAAAABAAEAAAICRAEAOw==\n",
      "data:image/gif;base64,R0lGODlhAQABAIAAAP///wAAACH5BAEAAAAALAAAAAABAAEAAAICRAEAOw==\n",
      "data:image/gif;base64,R0lGODlhAQABAIAAAP///wAAACH5BAEAAAAALAAAAAABAAEAAAICRAEAOw==\n",
      "data:image/gif;base64,R0lGODlhAQABAIAAAP///wAAACH5BAEAAAAALAAAAAABAAEAAAICRAEAOw==\n",
      "data:image/gif;base64,R0lGODlhAQABAIAAAP///wAAACH5BAEAAAAALAAAAAABAAEAAAICRAEAOw==\n",
      "data:image/gif;base64,R0lGODlhAQABAIAAAP///wAAACH5BAEAAAAALAAAAAABAAEAAAICRAEAOw==\n",
      "data:image/gif;base64,R0lGODlhAQABAIAAAP///wAAACH5BAEAAAAALAAAAAABAAEAAAICRAEAOw==\n",
      "https://static-breeze.nike.co.kr/kr/ko_kr/cmsstatic/product/-1815875988/DA6364-400_DA6364-400_PC.jpg?snkrBrowse\n",
      "https://static-breeze.nike.co.kr/kr/ko_kr/cmsstatic/product/-1284835451/DB4635-001_DB4635-001_PC.jpg?snkrBrowse\n",
      "https://static-breeze.nike.co.kr/kr/ko_kr/cmsstatic/product/2130891085/DB4635-300_DB4635-300_PC.jpg?snkrBrowse\n",
      "https://static-breeze.nike.co.kr/kr/ko_kr/cmsstatic/product/-784756040/FEEDWEB.jpg?snkrBrowse\n"
     ]
    }
   ],
   "source": [
    "for i in elements:\n",
    "    image = i.find_element_by_tag_name(\"img\")\n",
    "    img_src = image.get_attribute(\"data-src\")\n",
    "    print(img_src)"
   ]
  },
  {
   "cell_type": "code",
   "execution_count": 115,
   "metadata": {},
   "outputs": [
    {
     "data": {
      "text/plain": [
       "<selenium.webdriver.remote.webelement.WebElement (session=\"e1d7a7470cfe197a37fe2531e0dbc4b8\", element=\"186477d1-b048-4a25-a589-132c3ecac346\")>"
      ]
     },
     "execution_count": 115,
     "metadata": {},
     "output_type": "execute_result"
    }
   ],
   "source": [
    "elements[6]"
   ]
  },
  {
   "cell_type": "code",
   "execution_count": 110,
   "metadata": {},
   "outputs": [
    {
     "name": "stdout",
     "output_type": "stream",
     "text": [
      "<class 'selenium.webdriver.chrome.webdriver.WebDriver'>\n",
      "<class 'list'>\n"
     ]
    }
   ],
   "source": [
    "print(type(driver))\n",
    "print(type(elements))\n",
    "# for i in range(len(elements)):\n",
    "#     print(elements[i].find_elements_by_css_selector('li:nth-child(1) > a > div.img-sect > img').get_attribute('src'))\n",
    "# elements_list"
   ]
  },
  {
   "cell_type": "code",
   "execution_count": 117,
   "metadata": {},
   "outputs": [
    {
     "name": "stdout",
     "output_type": "stream",
     "text": [
      "\n",
      "\t\n",
      "\t\n",
      "\t\n",
      "\n",
      "\t\n",
      "\t\t\n",
      "\t\t\n",
      "\t\t\t<a data-tag-pw-rank-product-id=\"DA4137-739\" href=\"/kr/launch/t/men/ap/nike-sportswear/DA4137-739/cjnp26/as-m-nrg-au-puffer-jacket\" title=\"UNIVERSITY GOLD PUFFER JACK\">\n",
      "\t\t\t\t<div class=\"img-sect\">\n",
      "\t\t\t\t\t\n",
      "\t\t\t\t\t<img class=\"img-component\" data-src=\"https://static-breeze.nike.co.kr/kr/ko_kr/cmsstatic/product/537737374/DA4137-739_DA4137-739_PC.jpg?snkrBrowse\" alt=\"NOCTA\" src=\"data:image/gif;base64,R0lGODlhAQABAIAAAP///wAAACH5BAEAAAAALAAAAAABAAEAAAICRAEAOw==\">\n",
      "\t\t\t\t</div>\n",
      "\t\t\t\t<div class=\"info-sect\">\n",
      "\t\t\t\t\t<div class=\"text-box\">\n",
      "\t\t\t\t\t\t<p class=\"txt-subject\">UNIVERSITY GOLD PUFFER JACK</p>\n",
      "\t\t\t\t\t\t<p class=\"txt-description\">NOCTA</p>\n",
      "\t\t\t\t\t</div>\n",
      "\n",
      "\t\t\t\t\t\n",
      "\t\t\t\t\t\n",
      "\t\t\t\t\t\n",
      "\t\t\t\t\t\n",
      "\t\t\t\t\t\n",
      "\t\t\t\t\t\n",
      "\t\t\t\t\t\n",
      "\t\t\t\t\t\t<div class=\"btn-box\">\n",
      "\t\t\t\t\t\t\t\n",
      "\t\t\t\t\t\t\t<span class=\"btn-link line large btn-soldout ns\">SOLD OUT</span>\n",
      "\n",
      "\t\t\t\t\t\t\t\n",
      "\t\t\t\t\t\t\t\n",
      "\n",
      "\t\t\t\t\t\t\t\n",
      "\t\t\t\t\t\t</div>\n",
      "\t\t\t\t\t\t\n",
      "\t\t\t\t\t\n",
      "\t\t\t\t</div>\n",
      "\t\t\t</a>\n",
      "\n",
      "\t\t\t<input type=\"hidden\" name=\"producturl\" value=\"/kr/launch/t/men/ap/nike-sportswear/DA4137-739/cjnp26/as-m-nrg-au-puffer-jacket\">\n",
      "\n",
      "\t\t\t\n",
      "\t\t\t\n",
      "\t\t\t\n",
      "\t\t\t\t\n",
      "\t\t\t\n",
      "\t\t\n",
      "\n",
      "\t\t\n",
      "\t\t\n",
      "\n",
      "\t\t\n",
      "\t\t\n",
      "    \n"
     ]
    }
   ],
   "source": [
    "# print( '출력 {}'.format(elements))\n",
    "\n",
    "# print( elements[1].find_elements_by_css_selector('src') )\n",
    "\n",
    "# print(elements[0].find_elements_by_css_selector('a > div[1] > img'))\n",
    "\n",
    "# print(type(elements[0].find_elements_by_css_selector('a > div[1] > img')))\n",
    "\n",
    "print(elements[6].get_attribute('innerHTML'))"
   ]
  },
  {
   "cell_type": "code",
   "execution_count": 31,
   "metadata": {},
   "outputs": [
    {
     "ename": "AttributeError",
     "evalue": "'WebElement' object has no attribute 'get_text'",
     "output_type": "error",
     "traceback": [
      "\u001b[1;31m---------------------------------------------------------------------------\u001b[0m",
      "\u001b[1;31mAttributeError\u001b[0m                            Traceback (most recent call last)",
      "\u001b[1;32m<ipython-input-31-fcd77c45ac08>\u001b[0m in \u001b[0;36m<module>\u001b[1;34m\u001b[0m\n\u001b[1;32m----> 1\u001b[1;33m \u001b[0msourcecode_elem\u001b[0m\u001b[1;33m.\u001b[0m\u001b[0mget_text\u001b[0m\u001b[1;33m(\u001b[0m\u001b[1;33m)\u001b[0m\u001b[1;33m\u001b[0m\u001b[1;33m\u001b[0m\u001b[0m\n\u001b[0m",
      "\u001b[1;31mAttributeError\u001b[0m: 'WebElement' object has no attribute 'get_text'"
     ]
    }
   ],
   "source": [
    "sourcecode_elem.get_text()"
   ]
  },
  {
   "cell_type": "code",
   "execution_count": null,
   "metadata": {},
   "outputs": [],
   "source": [
    "driver.quit()"
   ]
  }
 ],
 "metadata": {
  "kernelspec": {
   "display_name": "Python 3",
   "language": "python",
   "name": "python3"
  },
  "language_info": {
   "codemirror_mode": {
    "name": "ipython",
    "version": 3
   },
   "file_extension": ".py",
   "mimetype": "text/x-python",
   "name": "python",
   "nbconvert_exporter": "python",
   "pygments_lexer": "ipython3",
   "version": "3.7.7"
  }
 },
 "nbformat": 4,
 "nbformat_minor": 4
}
